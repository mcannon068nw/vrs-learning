{
 "cells": [
  {
   "cell_type": "markdown",
   "metadata": {},
   "source": [
    "# Rendering CNVs (old style vs proposed new)\n",
    "Utilizing current VRS definitions to model a Copy Number Variation using my own examples from http://atlasgeneticsoncology.org/index.html. After established an example or two using current VRS implementation, utilize information from discussion with Alex about proposed new model in which a CNV is another type of DerivedSequenceExpression. Should also contain explainations of everything as going to make sure everything is understood."
   ]
  },
  {
   "cell_type": "code",
   "execution_count": 1,
   "metadata": {},
   "outputs": [
    {
     "name": "stderr",
     "output_type": "stream",
     "text": [
      "Removing allOf attribute from CopyNumber to avoid python-jsonschema-objects error.\n",
      "Removing allOf attribute from SequenceInterval to avoid python-jsonschema-objects error.\n",
      "Removing allOf attribute from RepeatedSequenceExpression to avoid python-jsonschema-objects error.\n",
      "/usr/local/lib/python3.9/site-packages/python_jsonschema_objects/__init__.py:49: UserWarning: Schema version http://json-schema.org/draft-07/schema not recognized. Some keywords and features may not be supported.\n",
      "  warnings.warn(\n"
     ]
    }
   ],
   "source": [
    "# Import VRS\n",
    "from ga4gh.vrs import models\n",
    "from ga4gh.vrs.extras.translator import Translator\n",
    "from ga4gh.vrs.dataproxy import SeqRepoRESTDataProxy\n",
    "\n",
    "# Import JSON to dump VRS objects to JSON format\n",
    "import json\n",
    "from IPython.display import Image\n",
    "\n"
   ]
  },
  {
   "cell_type": "markdown",
   "metadata": {},
   "source": [
    "## Current VRS"
   ]
  },
  {
   "cell_type": "markdown",
   "metadata": {},
   "source": [
    "### Example 1: Gene has an increased copy number\n",
    "An example of this will be to model the alpha-amylase gene (AMY1). AMY1 is an enzyme in saliva responsible for breakdown of starch. This gene has a wide range of copy number throughout different human populations. It also has convincing evidence that correlates its protein function to its copy number.\n",
    "\n",
    "(Source: Wikipedia https://en.wikipedia.org/wiki/Copy_number_variation#Alpha-amylase_gene)"
   ]
  },
  {
   "cell_type": "code",
   "execution_count": 2,
   "metadata": {},
   "outputs": [],
   "source": [
    "# Set variation number using DefiniteRange VRS object. AMY1's copy number can vary from 2 to 16 so we will define ranges\n",
    "amy1_defrange = models.DefiniteRange(min=2,max=16)\n",
    "\n",
    "# With range defined, now represent the copy number variation potential of AMY1 using the VRS object\n",
    "amy1_cn = models.CopyNumber(copies=amy1_defrange,\n",
    "                            subject=models.Gene(gene_id='ncbigene:11722')\n",
    "                            )"
   ]
  },
  {
   "cell_type": "code",
   "execution_count": 3,
   "metadata": {},
   "outputs": [
    {
     "data": {
      "text/plain": [
       "<CopyNumber _id=None copies=<DefiniteRange max=<Literal<int> 16> min=<Literal<int> 2> type=<Literal<str> DefiniteRange>> subject=<Gene gene_id=<Literal<str> ncbigene:11722> type=<Literal<str> Gene>> type=<Literal<str> CopyNumber>>"
      ]
     },
     "execution_count": 3,
     "metadata": {},
     "output_type": "execute_result"
    }
   ],
   "source": [
    "# AMY1 copy number variation representation at gene level\n",
    "amy1_cn"
   ]
  },
  {
   "cell_type": "code",
   "execution_count": 4,
   "metadata": {},
   "outputs": [
    {
     "name": "stdout",
     "output_type": "stream",
     "text": [
      "{\n",
      " \"type\": \"CopyNumber\",\n",
      " \"subject\": {\n",
      "  \"type\": \"Gene\",\n",
      "  \"gene_id\": \"ncbigene:11722\"\n",
      " },\n",
      " \"copies\": {\n",
      "  \"type\": \"DefiniteRange\",\n",
      "  \"min\": 2,\n",
      "  \"max\": 16\n",
      " }\n",
      "}\n"
     ]
    }
   ],
   "source": [
    "# JSON format\n",
    "amy1_json = json.dumps(amy1_cn.as_dict(), indent=1)\n",
    "print(amy1_json)"
   ]
  },
  {
   "cell_type": "markdown",
   "metadata": {},
   "source": [
    "### Example 2: Exon has a duplication event\n",
    "\n",
    "Coding regions within a gene can be duplicated within the genome due to errors in repair, among other abnormalities. In one study, it was noted that six patients with pilocytic astrocytomas (grade II-III) had a copy number gain in KIAA1549-BRAF gene fusion, or a 7q34 gain. Patients with this gain showed excellent long term survival. \n",
    "\n",
    "(source: https://onlinelibrary.wiley.com/doi/10.1002/jcp.21978) "
   ]
  },
  {
   "cell_type": "code",
   "execution_count": 5,
   "metadata": {},
   "outputs": [],
   "source": [
    "# First, specify the region being duplicated (KIAA1549 7q34)\n",
    "kiaa_seqinterval = models.SequenceInterval(start=models.Number(value=138831377),end=models.Number(value=138981626))\n",
    "kiaa_location = models.SequenceLocation(interval=kiaa_seqinterval, sequence_id='refseq:NC_000007.14')\n",
    "\n",
    "# Now that we have the region (KIAA1549), define the derived sequence and the gain\n",
    "kiaa_deriveseq = models.DerivedSequenceExpression(location=kiaa_location, reverse_complement=False)\n",
    "kiaa_cnv_gain = models.IndefiniteRange(comparator=\">=\",value=2)\n",
    "\n",
    "# With the kiaa sequence defined and the cnv gain defined, express as a copy number object\n",
    "kiaa_copy_gain = models.CopyNumber(copies=kiaa_cnv_gain, subject=kiaa_deriveseq)"
   ]
  },
  {
   "cell_type": "code",
   "execution_count": 6,
   "metadata": {},
   "outputs": [
    {
     "name": "stdout",
     "output_type": "stream",
     "text": [
      "{'type': 'CopyNumber', 'subject': {'type': 'DerivedSequenceExpression', 'location': {'type': 'SequenceLocation', 'sequence_id': 'refseq:NC_000007.14', 'interval': {'type': 'SequenceInterval', 'start': {'type': 'Number', 'value': 138831377}, 'end': {'type': 'Number', 'value': 138981626}}}, 'reverse_complement': False}, 'copies': {'type': 'IndefiniteRange', 'value': 2, 'comparator': '>='}}\n"
     ]
    }
   ],
   "source": [
    "# kiaa_dup_json = json.dumps(kiaa_copy_gain.as_dict(), indent=1)\n",
    "# print(kiaa_dup_json)\n",
    "print(kiaa_copy_gain.as_dict())"
   ]
  },
  {
   "cell_type": "markdown",
   "metadata": {},
   "source": [
    "## Proposed Change"
   ]
  },
  {
   "cell_type": "markdown",
   "metadata": {},
   "source": [
    "Copy number representation is not sufficient in current version of VRS. After discussions with Alex, we determined that it was essentially another version of DerivedSequenceExpression. It should have its own representation as another instance of DerivedSequenceExpression."
   ]
  },
  {
   "cell_type": "code",
   "execution_count": 7,
   "metadata": {},
   "outputs": [],
   "source": [
    "class DerivedCytobandExpression(): # Parent Class in parantheses...super init if __init__ params diff\n",
    "    def __init__(self,location,reverse_complement):\n",
    "        self.type = 'CytobandExpression'\n",
    "        self.location = location\n",
    "        self.reverse_complement = reverse_complement\n",
    "        self.__is_valid_location(location)\n",
    "\n",
    "    def __is_valid_location(self,location):\n",
    "        if location.type != 'SequenceLocation':\n",
    "            raise ValueError(\"Must contain valid SequenceLocation\")\n",
    "        return location.type\n",
    "\n",
    "    def __iter__(self):\n",
    "        yield 'type', self.type\n",
    "        yield 'location', self.location\n",
    "        yield 'reverse_complement', self.reverse_complement\n",
    "\n",
    "    def toJSON(self):\n",
    "        return json.dumps(self, default=lambda o: o.__dict__, sort_keys=True, indent=4)\n",
    "\n",
    "\n",
    "class CopyNumber():\n",
    "    def __init__(self,copies,cytoband):\n",
    "        self.type = 'CopyNumber'\n",
    "        self.copies = copies\n",
    "        self.cytoband = cytoband\n",
    "\n",
    "    def toJSON(self):\n",
    "        return json.dumps(self, default=lambda o: o.__dict__, sort_keys=True, indent=4)\n",
    "\n"
   ]
  },
  {
   "cell_type": "markdown",
   "metadata": {},
   "source": [
    "### Example 2: Exon duplication event (new model)\n",
    "\n",
    "Coding regions within a gene can be duplicated within the genome due to errors in repair, among other abnormalities. In one study, it was noted that six patients with pilocytic astrocytomas (grade II-III) had a copy number gain in KIAA1549-BRAF gene fusion, or a 7q34 gain. Patients with this gain showed excellent long term survival. \n",
    "\n",
    "This time, use new DerivedCytobandExpression class to express this event. Having this separate will also allow for hashing without overlapping DerivedSequenceExpressions or CopyNumber objects.\n",
    "\n",
    "(source: https://onlinelibrary.wiley.com/doi/10.1002/jcp.21978) "
   ]
  },
  {
   "cell_type": "code",
   "execution_count": 10,
   "metadata": {},
   "outputs": [
    {
     "ename": "AttributeError",
     "evalue": "'str' object has no attribute 'type'",
     "output_type": "error",
     "traceback": [
      "\u001b[0;31m---------------------------------------------------------------------------\u001b[0m",
      "\u001b[0;31mAttributeError\u001b[0m                            Traceback (most recent call last)",
      "\u001b[0;32m/var/folders/m6/b6y4g9114836jky8p81w12mchscvrj/T/ipykernel_60417/1651618724.py\u001b[0m in \u001b[0;36m<module>\u001b[0;34m\u001b[0m\n\u001b[1;32m      8\u001b[0m \u001b[0;34m\u001b[0m\u001b[0m\n\u001b[1;32m      9\u001b[0m \u001b[0;31m# Validation test\u001b[0m\u001b[0;34m\u001b[0m\u001b[0;34m\u001b[0m\u001b[0m\n\u001b[0;32m---> 10\u001b[0;31m \u001b[0mkiaa_incorrect_expression\u001b[0m \u001b[0;34m=\u001b[0m \u001b[0mDerivedCytobandExpression\u001b[0m\u001b[0;34m(\u001b[0m\u001b[0mlocation\u001b[0m\u001b[0;34m=\u001b[0m\u001b[0;34m'lol'\u001b[0m\u001b[0;34m,\u001b[0m\u001b[0mreverse_complement\u001b[0m\u001b[0;34m=\u001b[0m\u001b[0;32mFalse\u001b[0m\u001b[0;34m)\u001b[0m\u001b[0;34m\u001b[0m\u001b[0;34m\u001b[0m\u001b[0m\n\u001b[0m\u001b[1;32m     11\u001b[0m \u001b[0;34m\u001b[0m\u001b[0m\n\u001b[1;32m     12\u001b[0m \u001b[0;31m# f = kiaa_cytoband_expression.toJSON()\u001b[0m\u001b[0;34m\u001b[0m\u001b[0;34m\u001b[0m\u001b[0m\n",
      "\u001b[0;32m/var/folders/m6/b6y4g9114836jky8p81w12mchscvrj/T/ipykernel_60417/1984649743.py\u001b[0m in \u001b[0;36m__init__\u001b[0;34m(self, location, reverse_complement)\u001b[0m\n\u001b[1;32m      4\u001b[0m         \u001b[0mself\u001b[0m\u001b[0;34m.\u001b[0m\u001b[0mlocation\u001b[0m \u001b[0;34m=\u001b[0m \u001b[0mlocation\u001b[0m\u001b[0;34m\u001b[0m\u001b[0;34m\u001b[0m\u001b[0m\n\u001b[1;32m      5\u001b[0m         \u001b[0mself\u001b[0m\u001b[0;34m.\u001b[0m\u001b[0mreverse_complement\u001b[0m \u001b[0;34m=\u001b[0m \u001b[0mreverse_complement\u001b[0m\u001b[0;34m\u001b[0m\u001b[0;34m\u001b[0m\u001b[0m\n\u001b[0;32m----> 6\u001b[0;31m         \u001b[0mself\u001b[0m\u001b[0;34m.\u001b[0m\u001b[0m__is_valid_location\u001b[0m\u001b[0;34m(\u001b[0m\u001b[0mlocation\u001b[0m\u001b[0;34m)\u001b[0m\u001b[0;34m\u001b[0m\u001b[0;34m\u001b[0m\u001b[0m\n\u001b[0m\u001b[1;32m      7\u001b[0m \u001b[0;34m\u001b[0m\u001b[0m\n\u001b[1;32m      8\u001b[0m     \u001b[0;32mdef\u001b[0m \u001b[0m__is_valid_location\u001b[0m\u001b[0;34m(\u001b[0m\u001b[0mself\u001b[0m\u001b[0;34m,\u001b[0m\u001b[0mlocation\u001b[0m\u001b[0;34m)\u001b[0m\u001b[0;34m:\u001b[0m\u001b[0;34m\u001b[0m\u001b[0;34m\u001b[0m\u001b[0m\n",
      "\u001b[0;32m/var/folders/m6/b6y4g9114836jky8p81w12mchscvrj/T/ipykernel_60417/1984649743.py\u001b[0m in \u001b[0;36m__is_valid_location\u001b[0;34m(self, location)\u001b[0m\n\u001b[1;32m      7\u001b[0m \u001b[0;34m\u001b[0m\u001b[0m\n\u001b[1;32m      8\u001b[0m     \u001b[0;32mdef\u001b[0m \u001b[0m__is_valid_location\u001b[0m\u001b[0;34m(\u001b[0m\u001b[0mself\u001b[0m\u001b[0;34m,\u001b[0m\u001b[0mlocation\u001b[0m\u001b[0;34m)\u001b[0m\u001b[0;34m:\u001b[0m\u001b[0;34m\u001b[0m\u001b[0;34m\u001b[0m\u001b[0m\n\u001b[0;32m----> 9\u001b[0;31m         \u001b[0;32mif\u001b[0m \u001b[0mlocation\u001b[0m\u001b[0;34m.\u001b[0m\u001b[0mtype\u001b[0m \u001b[0;34m!=\u001b[0m \u001b[0;34m'SequenceLocation'\u001b[0m\u001b[0;34m:\u001b[0m\u001b[0;34m\u001b[0m\u001b[0;34m\u001b[0m\u001b[0m\n\u001b[0m\u001b[1;32m     10\u001b[0m             \u001b[0;32mraise\u001b[0m \u001b[0mValueError\u001b[0m\u001b[0;34m(\u001b[0m\u001b[0;34m\"Must contain valid SequenceLocation\"\u001b[0m\u001b[0;34m)\u001b[0m\u001b[0;34m\u001b[0m\u001b[0;34m\u001b[0m\u001b[0m\n\u001b[1;32m     11\u001b[0m         \u001b[0;32mreturn\u001b[0m \u001b[0mlocation\u001b[0m\u001b[0;34m.\u001b[0m\u001b[0mtype\u001b[0m\u001b[0;34m\u001b[0m\u001b[0;34m\u001b[0m\u001b[0m\n",
      "\u001b[0;31mAttributeError\u001b[0m: 'str' object has no attribute 'type'"
     ]
    }
   ],
   "source": [
    "# First, specify the region being duplicated (KIAA1549 7q34)\n",
    "kiaa_seqinterval = models.SequenceInterval(start=models.Number(value=138831377),end=models.Number(value=138981626))\n",
    "kiaa_location = models.SequenceLocation(interval=kiaa_seqinterval, sequence_id='refseq:NC_000007.14')\n",
    "\n",
    "# Now that we have the region (KIAA1549), define the derived sequence and the gain\n",
    "kiaa_cytoband_expression = DerivedCytobandExpression(location=kiaa_location, reverse_complement=False)\n",
    "kiaa_cnv_gain = models.IndefiniteRange(comparator=\">=\",value=2)\n",
    "\n",
    "# Validation test\n",
    "kiaa_incorrect_expression = DerivedCytobandExpression(location='lol',reverse_complement=False)\n",
    "\n",
    "# f = kiaa_cytoband_expression.toJSON()\n",
    "# json.dumps(kiaa_cytoband_expression.as_dict(), indent=1)\n",
    "\n",
    "# print(f)"
   ]
  },
  {
   "cell_type": "code",
   "execution_count": 63,
   "metadata": {},
   "outputs": [],
   "source": [
    "# From here, we can then use the existing CopyNumber object to represent our copy number change object\n",
    "kiaa_copy_gain = CopyNumber(copies=kiaa_cnv_gain, cytoband=kiaa_cytoband_expression)\n",
    "\n"
   ]
  }
 ],
 "metadata": {
  "interpreter": {
   "hash": "aee8b7b246df8f9039afb4144a1f6fd8d2ca17a180786b69acc140d282b71a49"
  },
  "kernelspec": {
   "display_name": "Python 3.9.7 64-bit",
   "language": "python",
   "name": "python3"
  },
  "language_info": {
   "codemirror_mode": {
    "name": "ipython",
    "version": 3
   },
   "file_extension": ".py",
   "mimetype": "text/x-python",
   "name": "python",
   "nbconvert_exporter": "python",
   "pygments_lexer": "ipython3",
   "version": "3.9.9"
  },
  "orig_nbformat": 4
 },
 "nbformat": 4,
 "nbformat_minor": 2
}
